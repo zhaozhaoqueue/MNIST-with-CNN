{
 "cells": [
  {
   "cell_type": "markdown",
   "metadata": {},
   "source": [
    "# Case Study 6 : Data Science in Any Data You Like"
   ]
  },
  {
   "cell_type": "markdown",
   "metadata": {},
   "source": [
    "**Required Readings:** \n",
    "* In this case study, you could use any data as you like.\n",
    "* [TED Talks](https://www.ted.com/talks) for examples of 10 minutes talks.\n",
    "\n",
    "\n",
    "** NOTE **\n",
    "* Please don't forget to save the notebook frequently when working in Jupyter Notebook, otherwise the changes you made can be lost.\n",
    "\n",
    "*----------------------"
   ]
  },
  {
   "cell_type": "markdown",
   "metadata": {},
   "source": [
    "# Problem: pick a data science problem that you plan to solve using your Data\n",
    "* The problem should be important and interesting, which has a potential impact in some area.\n",
    "* The problem should be solvable using the data and data science solutions.\n",
    "\n",
    "Please briefly describe in the following cell: what problem are you trying to solve? why this problem is important and interesting?"
   ]
  },
  {
   "cell_type": "code",
   "execution_count": null,
   "metadata": {
    "collapsed": true
   },
   "outputs": [],
   "source": [
    "#We choose the dataset MNIST (\"Modified National Institute of Standards and Technology\"),  \n",
    "#the classic dataset of handwritten images .\n",
    "#Our goal is to correctly identify digits from a dataset of tens of thousands of handwritten images.\n",
    "\n",
    "\n",
    "\n",
    "\n",
    "\n",
    "\n",
    "\n",
    "\n",
    "\n",
    "\n",
    "\n",
    "\n",
    "\n",
    "\n",
    "\n",
    "\n",
    "\n",
    "\n",
    "\n",
    "\n"
   ]
  },
  {
   "cell_type": "markdown",
   "metadata": {},
   "source": [
    "# Data Collection/Processing: "
   ]
  },
  {
   "cell_type": "code",
   "execution_count": 1,
   "metadata": {},
   "outputs": [
    {
     "name": "stderr",
     "output_type": "stream",
     "text": [
      "Using TensorFlow backend.\n"
     ]
    }
   ],
   "source": [
    "#----------------------------------------------\n",
    "# Your code starts here\n",
    "#   Please add comments or text cells in between to explain the general idea of each block of the code.\n",
    "#   Please feel free to add more cells below this cell if necessary\n",
    "import numpy as np \n",
    "import matplotlib.pyplot as plt\n",
    "%matplotlib inline\n",
    "from sklearn.model_selection import train_test_split\n",
    "\n",
    "from keras.utils.np_utils import to_categorical \n",
    "from keras.models import Sequential\n",
    "from keras.layers import Dense, Dropout, Flatten, Conv2D, MaxPool2D\n",
    "from keras.optimizers import Adam\n",
    "from keras.preprocessing.image import ImageDataGenerator\n",
    "from keras.callbacks import LearningRateScheduler\n"
   ]
  },
  {
   "cell_type": "code",
   "execution_count": 2,
   "metadata": {},
   "outputs": [],
   "source": [
    "train_file = 'train.csv'\n",
    "test_file = 'test.csv'\n",
    "\n",
    "#Load train data\n",
    "#First row is the label, so skip the first row\n",
    "raw_data = np.loadtxt(train_file, skiprows=1, dtype='int', delimiter=',')\n",
    "\n",
    "#Choose 90% data to train, 10% data to test accuracy\n",
    "#x_train: pixel matrix of training data\n",
    "#x_val: pixel matrix of testing data\n",
    "#y_train: label vector of training data\n",
    "#y_val: label vector of testing data\n",
    "x_train, x_val, y_train, y_val = train_test_split(raw_data[:,1:], raw_data[:,0], test_size=0.1)\n",
    "\n",
    "\n",
    "#Load test data\n",
    "test = np.loadtxt(test_file, skiprows=1, dtype='int', delimiter=',')"
   ]
  },
  {
   "cell_type": "code",
   "execution_count": 3,
   "metadata": {},
   "outputs": [
    {
     "name": "stdout",
     "output_type": "stream",
     "text": [
      "(37800, 784)\n",
      "(4200, 784)\n",
      "(37800,)\n",
      "(4200,)\n",
      "(28000, 784)\n"
     ]
    }
   ],
   "source": [
    "print x_train.shape\n",
    "print x_val.shape\n",
    "print y_train.shape\n",
    "print y_val.shape\n",
    "print test.shape"
   ]
  },
  {
   "cell_type": "code",
   "execution_count": 4,
   "metadata": {},
   "outputs": [],
   "source": [
    "#Input data should be 3 dimensions, height=28, width=28, layer=1\n",
    "x_train = x_train.reshape(-1, 28, 28, 1)\n",
    "x_val = x_val.reshape(-1, 28, 28, 1)\n",
    "test = test.reshape(-1, 28, 28, 1)"
   ]
  },
  {
   "cell_type": "code",
   "execution_count": 5,
   "metadata": {},
   "outputs": [
    {
     "name": "stdout",
     "output_type": "stream",
     "text": [
      "(28000, 28, 28, 1)\n"
     ]
    }
   ],
   "source": [
    "print test.shape"
   ]
  },
  {
   "cell_type": "code",
   "execution_count": 6,
   "metadata": {},
   "outputs": [],
   "source": [
    "#Normalize data in pixel matrix\n",
    "x_train = x_train/255.0\n",
    "x_val = x_val/255.0\n",
    "test = test/255.0"
   ]
  },
  {
   "cell_type": "code",
   "execution_count": 7,
   "metadata": {},
   "outputs": [],
   "source": [
    "#Change label vector to label matrix, e.g: before:label[1] =2 ; after: label[1] = [0,0,1,0,0,0,0,0,0,0]\n",
    "y_train = to_categorical(y_train)\n",
    "y_val = to_categorical(y_val)"
   ]
  },
  {
   "cell_type": "markdown",
   "metadata": {},
   "source": [
    "# Data Exploration: Exploring the your data\n",
    "\n",
    "** plot some properties/statistics/distribution of your data** "
   ]
  },
  {
   "cell_type": "code",
   "execution_count": 8,
   "metadata": {},
   "outputs": [],
   "source": [
    "# Your code starts here\n",
    "#   Please add comments or text cells in between to explain the general idea of each block of the code.\n",
    "#   Please feel free to add more cells below this cell if necessary\n",
    "\n",
    "#build a Sequential model\n",
    "model = Sequential()\n",
    "\n",
    "model.add(Conv2D(filters = 16, kernel_size = (3, 3), activation='relu', input_shape = (28, 28, 1)))\n",
    "model.add(Conv2D(filters = 16, kernel_size = (3, 3), activation='relu'))\n",
    "model.add(MaxPool2D(strides=(2,2)))\n",
    "model.add(Dropout(0.25))\n",
    "\n",
    "model.add(Conv2D(filters = 32, kernel_size = (3, 3), activation='relu'))\n",
    "model.add(Conv2D(filters = 32, kernel_size = (3, 3), activation='relu'))\n",
    "model.add(MaxPool2D(strides=(2,2)))\n",
    "model.add(Dropout(0.25))\n",
    "\n",
    "model.add(Flatten())\n",
    "model.add(Dense(512, activation='relu'))\n",
    "model.add(Dropout(0.25))\n",
    "model.add(Dense(10, activation='softmax'))\n",
    "\n",
    "\n",
    "model.compile(loss='categorical_crossentropy', optimizer = Adam(lr=1e-4), metrics=[\"accuracy\"])"
   ]
  },
  {
   "cell_type": "code",
   "execution_count": 9,
   "metadata": {},
   "outputs": [
    {
     "name": "stdout",
     "output_type": "stream",
     "text": [
      "_________________________________________________________________\n",
      "Layer (type)                 Output Shape              Param #   \n",
      "=================================================================\n",
      "conv2d_1 (Conv2D)            (None, 26, 26, 16)        160       \n",
      "_________________________________________________________________\n",
      "conv2d_2 (Conv2D)            (None, 24, 24, 16)        2320      \n",
      "_________________________________________________________________\n",
      "max_pooling2d_1 (MaxPooling2 (None, 12, 12, 16)        0         \n",
      "_________________________________________________________________\n",
      "dropout_1 (Dropout)          (None, 12, 12, 16)        0         \n",
      "_________________________________________________________________\n",
      "conv2d_3 (Conv2D)            (None, 10, 10, 32)        4640      \n",
      "_________________________________________________________________\n",
      "conv2d_4 (Conv2D)            (None, 8, 8, 32)          9248      \n",
      "_________________________________________________________________\n",
      "max_pooling2d_2 (MaxPooling2 (None, 4, 4, 32)          0         \n",
      "_________________________________________________________________\n",
      "dropout_2 (Dropout)          (None, 4, 4, 32)          0         \n",
      "_________________________________________________________________\n",
      "flatten_1 (Flatten)          (None, 512)               0         \n",
      "_________________________________________________________________\n",
      "dense_1 (Dense)              (None, 512)               262656    \n",
      "_________________________________________________________________\n",
      "dropout_3 (Dropout)          (None, 512)               0         \n",
      "_________________________________________________________________\n",
      "dense_2 (Dense)              (None, 10)                5130      \n",
      "=================================================================\n",
      "Total params: 284,154\n",
      "Trainable params: 284,154\n",
      "Non-trainable params: 0\n",
      "_________________________________________________________________\n",
      "None\n"
     ]
    }
   ],
   "source": [
    "print model.summary()"
   ]
  },
  {
   "cell_type": "code",
   "execution_count": 10,
   "metadata": {},
   "outputs": [],
   "source": [
    "# Set a learning rate annealer\n",
    "from keras.callbacks import ReduceLROnPlateau\n",
    "learning_rate_reduction = ReduceLROnPlateau(monitor='val_acc', patience=3, verbose=1, factor=0.5, min_lr=0.00001)"
   ]
  },
  {
   "cell_type": "code",
   "execution_count": 11,
   "metadata": {},
   "outputs": [
    {
     "name": "stdout",
     "output_type": "stream",
     "text": [
      "Train on 37800 samples, validate on 4200 samples\n",
      "Epoch 1/10\n",
      " - 42s - loss: 0.5036 - acc: 0.8383 - val_loss: 0.1409 - val_acc: 0.9576\n",
      "Epoch 2/10\n",
      " - 42s - loss: 0.1593 - acc: 0.9506 - val_loss: 0.0880 - val_acc: 0.9743\n",
      "Epoch 3/10\n",
      " - 41s - loss: 0.1131 - acc: 0.9644 - val_loss: 0.0709 - val_acc: 0.9800\n",
      "Epoch 4/10\n",
      " - 43s - loss: 0.0912 - acc: 0.9705 - val_loss: 0.0599 - val_acc: 0.9819\n",
      "Epoch 5/10\n",
      " - 41s - loss: 0.0755 - acc: 0.9758 - val_loss: 0.0515 - val_acc: 0.9840\n",
      "Epoch 6/10\n",
      " - 41s - loss: 0.0663 - acc: 0.9797 - val_loss: 0.0494 - val_acc: 0.9862\n",
      "Epoch 7/10\n",
      " - 42s - loss: 0.0598 - acc: 0.9808 - val_loss: 0.0466 - val_acc: 0.9869\n",
      "Epoch 8/10\n",
      " - 43s - loss: 0.0550 - acc: 0.9821 - val_loss: 0.0410 - val_acc: 0.9881\n",
      "Epoch 9/10\n",
      " - 44s - loss: 0.0481 - acc: 0.9839 - val_loss: 0.0426 - val_acc: 0.9883\n",
      "Epoch 10/10\n",
      " - 46s - loss: 0.0432 - acc: 0.9859 - val_loss: 0.0419 - val_acc: 0.9879\n"
     ]
    }
   ],
   "source": [
    "#Test training process, epochs = 10\n",
    "train_path = model.fit(x_train, y_train, batch_size = 16, epochs = 10, validation_data = (x_val, y_val), verbose = 2)"
   ]
  },
  {
   "cell_type": "code",
   "execution_count": 12,
   "metadata": {},
   "outputs": [
    {
     "data": {
      "image/png": "[encoded data removed]",
      "text/plain": [
       "<Figure size 432x288 with 1 Axes>"
      ]
     },
     "metadata": {},
     "output_type": "display_data"
    }
   ],
   "source": [
    "fig, ax = plt.subplots(1,1)\n",
    "ax.plot(train_path.history['acc'], color='b', label=\"Training accuracy\")\n",
    "ax.plot(train_path.history['val_acc'], color='r',label=\"Validation accuracy\")\n",
    "legend = ax.legend(loc='best', shadow=True)"
   ]
  },
  {
   "cell_type": "markdown",
   "metadata": {},
   "source": [
    "# The Solution: implement a data science solution to the problem you are trying to solve."
   ]
  },
  {
   "cell_type": "markdown",
   "metadata": {},
   "source": [
    "Briefly describe the idea of your solution to the problem in the following cell:"
   ]
  },
  {
   "cell_type": "code",
   "execution_count": 13,
   "metadata": {},
   "outputs": [],
   "source": [
    "# We use this model to predict data in test file. In addition, we draw some pictures and predict.\n",
    "\n",
    "\n",
    "\n",
    "\n",
    "\n",
    "\n",
    "\n",
    "\n",
    "\n"
   ]
  },
  {
   "cell_type": "markdown",
   "metadata": {},
   "source": [
    "Write codes to implement the solution in python:"
   ]
  },
  {
   "cell_type": "code",
   "execution_count": 14,
   "metadata": {},
   "outputs": [],
   "source": [
    "# Your code starts here\n",
    "#   Please add comments or text cells in between to explain the general idea of each block of the code.\n",
    "#   Please feel free to add more cells below this cell if necessary\n",
    "\n",
    "#Predict the test data\n",
    "test_results = model.predict(test)\n",
    "test_results = np.argmax(test_results, axis=1)\n",
    "\n",
    "result_list = test_results.tolist()\n"
   ]
  },
  {
   "cell_type": "code",
   "execution_count": 32,
   "metadata": {},
   "outputs": [
    {
     "name": "stdout",
     "output_type": "stream",
     "text": [
      "[2 0 9 9 3 7 0 3 0 3 5 7 4 0 4 3 3 1 9 0 9 1 1 5 7 4 2 7 4 7 7 5 4 2 6 2 5\n",
      " 5 1 6 7 7 4 9 8 7 8 2 6 7 6 8 8 3 8 2 1 2 2 0 4 1 7 0 0 0 1 9 0 1 6 5 8 8\n",
      " 2 8 9 9 2 3 5 4 1 0 9 2 4 3 6 7 2 0 6 6 1 4 3 9 7 4 0 9 2 0 7 3 0 5 0 8 0\n",
      " 0 4 7 1 7 1 1 3 3 3 7 2 8 6 3 8 7 7 4 3 5 6 0 0 0 3 1 3 6 4 3 4 5 5 8 7 7\n",
      " 2 8 4 3 5 6 5 3 7 5 7 8 3 0 4 5 1 2 7 6 3 0 2 7 8 6 1 3 7 4 1 2 4 8 5 2 4\n",
      " 9 2 1 6 0 6 1 4 9 6 0 9 7 6 9 1 9 0 9 9 0 8 4 6 2 0 9 3 6 3 2 1 6 3 4 2 3\n",
      " 1 2 2 0 4 6 1 0 0 4 9 1 7 3 2 3 8 6 8 6 2 8 5 5 4 8 3 5 9 7 1 3 8 4 5 1 4\n",
      " 5 6 3 3 5 7 0 6 8 3 1 6 0 6 3 9 5 1 5 8 4 0 9 2 0 5 3 7 1 9 9 5 7 7 9 9 6\n",
      " 3 0 3 3 6 9 8 2 6 3 7 1 4 5 8 5 9 0 0 3 8 4 1 8 4 1 1 9 8 4 5 1 5 3 6 3 1\n",
      " 3 0 9 0 0 6 0 6 3 1 8 6 0 6 5 2 2 6 7 7 2 5 8 3 9 2 7 8 6 3 8 4 2 3 8 1 6\n",
      " 4 8 7 9 7 6 9 5 3 7 6 5 5 4 2 6 2 1 3 7 1 7 9 9 6 1 1 1 7 3 9 7 6 1 1 1 9\n",
      " 3 8 5 5 0 4 1 2 3 1 1 3 5 9 6 6 5 3 1 4 7 4 7 4 8 5 2 6 1 3 9 5 0 8 4 7 4\n",
      " 4 4 1 5 3 9 5 7 6 9 5 9 2 3 5 6 6 7 5 0 5 1 7 4 4 1 1 4 9 5 6 0 1 3 1 0 4\n",
      " 8 1 2 7 9 4 8 3 7 7 4 2 4 6 7 6 3 2 0 6 5 9 4 1 8 3 3 0 2 7 5 8 7 5 3 5 7\n",
      " 4 3 6 9 0 7 7 1 0 1 1 7 0 5 3 8 3 5 6 5 4 3 0 2 8 2 0 3 0 9 2 1 1 3 0 5 0\n",
      " 0 7 5 6 2 0 3 8 1 6 5 4 1 1 4 6 5 3 6 0 4 8 2 4 2 5 1 7 6 9 1 7 3 8 0 8 8\n",
      " 4 5 3 6 6 6 0 3 5 1 7 1 6 2 8 5 6 4 7 4 3 3 2 4 7 0 0 9 8 5 9 4 0 8 8 5 6\n",
      " 2 6 1 8 6 1 4 7 7 8 3 0 9 9 6 7 7 4 4 1 8 4 8 0 2 8 2 4 3 3 7 2 3 4 0 4 8\n",
      " 1 3 3 6 3 9 4 3 8 7 7 2 6 0 6 9 8 8 1 3 4 6 9 9 2 6 0 1 8 4 3 9 8 8 4 0 5\n",
      " 0 6 0 4 4 6 5 1 8 1 5 3 6 2 3 7 8 9 3 1 0 1 0 6 4 7 5 7 1 3 2 7 7 1 5 1 5\n",
      " 4 4 3 4 3 9 0 7 8 6 4 9 4 4 1 4 7 1 1 8 7 0 4 0 4 0 0 5 1 8 6 5 0 1 5 3 4\n",
      " 6 3 1 1 6 9 8 3 5 5 4 8 6 5 0 4 0 4 3 1 6 9 9 1 1 3 3 1 4 9 6 9 1 5 4 2 3\n",
      " 2 4 0 9 7 4 3 0 5 0 1 9 0 4 5 2 8 0 5 9 3 9 6 1 5 5 1 9 0 8 8 6 7 2 8 5 8\n",
      " 9 7 7 2 8 1 3 4 5 0 4 1 4 2 3 6 9 2 3 4 5 4 2 3 3 1 1 0 1 4 9 1 1 2 7 1 5\n",
      " 4 9 1 7 6 0 4 2 9 4 1 1 5 3 5 7 9 7 8 3 2 7 2 0 4 7 1 6 4 6 1 5 7 3 5 9 4\n",
      " 7 9 6 6 3 3 2 1 4 5 3 7 7 9 5 6 2 6 1 0 9 3 2 9 2 6 7 5 2 3 2 8 3 0 2 7 9\n",
      " 4 0 9 5 1 8 8 5 3 2 9 6 7 0 8 0 7 4 5 8 7 9 7 7 0 5 3 2 1 9 0 6 8 3 6 2 2\n",
      " 9]\n"
     ]
    }
   ],
   "source": [
    "print test_results[:1000]"
   ]
  },
  {
   "cell_type": "markdown",
   "metadata": {},
   "source": [
    "# Results: summarize and visualize the results discovered from the analysis\n",
    "\n",
    "Please use figures, tables, or videos to communicate the results with the audience.\n"
   ]
  },
  {
   "cell_type": "code",
   "execution_count": 15,
   "metadata": {},
   "outputs": [],
   "source": [
    "# Your code starts here\n",
    "#   Please add comments or text cells in between to explain the general idea of each block of the code.\n",
    "#   Please feel free to add more cells below this cell if necessary\n",
    "\n",
    "#Draw picture based on the pixel data\n",
    "def show_pic(pixel_data):\n",
    "    return plt.imshow(pixel_data, cmap='gray')\n"
   ]
  },
  {
   "cell_type": "code",
   "execution_count": 16,
   "metadata": {},
   "outputs": [],
   "source": [
    "def show_test_pic(i):\n",
    "    predict_label = result_list[i]\n",
    "    pixel_data = test[i][:, :, 0]\n",
    "    p = show_pic(pixel_data)\n",
    "    return predict_label, p"
   ]
  },
  {
   "cell_type": "code",
   "execution_count": 17,
   "metadata": {},
   "outputs": [
    {
     "name": "stdout",
     "output_type": "stream",
     "text": [
      "(28, 28)\n"
     ]
    }
   ],
   "source": [
    "print test[1][:, :, 0].shape"
   ]
  },
  {
   "cell_type": "code",
   "execution_count": 18,
   "metadata": {},
   "outputs": [
    {
     "data": {
      "text/plain": [
       "(2, <matplotlib.image.AxesImage at 0x11668c350>)"
      ]
     },
     "execution_count": 18,
     "metadata": {},
     "output_type": "execute_result"
    },
    {
     "data": {
      "image/png": "[encoded data removed]",
      "text/plain": [
       "<Figure size 432x288 with 1 Axes>"
      ]
     },
     "metadata": {},
     "output_type": "display_data"
    }
   ],
   "source": [
    "#Test some pictures in \"test.csv\" file\n",
    "\n",
    "#The first picture in test file and its prediction result\n",
    "show_test_pic(0)"
   ]
  },
  {
   "cell_type": "code",
   "execution_count": 19,
   "metadata": {},
   "outputs": [
    {
     "data": {
      "text/plain": [
       "(6, <matplotlib.image.AxesImage at 0x11677c390>)"
      ]
     },
     "execution_count": 19,
     "metadata": {},
     "output_type": "execute_result"
    },
    {
     "data": {
      "image/png": "[encoded data removed]",
      "text/plain": [
       "<Figure size 432x288 with 1 Axes>"
      ]
     },
     "metadata": {},
     "output_type": "display_data"
    }
   ],
   "source": [
    "#The 3000th picture in test file and its prediction result\n",
    "show_test_pic(3000)"
   ]
  },
  {
   "cell_type": "code",
   "execution_count": 20,
   "metadata": {},
   "outputs": [
    {
     "data": {
      "text/plain": [
       "(0, <matplotlib.image.AxesImage at 0x11702be90>)"
      ]
     },
     "execution_count": 20,
     "metadata": {},
     "output_type": "execute_result"
    },
    {
     "data": {
      "image/png": "[encoded data removed]",
      "text/plain": [
       "<Figure size 432x288 with 1 Axes>"
      ]
     },
     "metadata": {},
     "output_type": "display_data"
    }
   ],
   "source": [
    "show_test_pic(1500)"
   ]
  },
  {
   "cell_type": "code",
   "execution_count": 21,
   "metadata": {},
   "outputs": [
    {
     "data": {
      "text/plain": [
       "(1, <matplotlib.image.AxesImage at 0x117a08990>)"
      ]
     },
     "execution_count": 21,
     "metadata": {},
     "output_type": "execute_result"
    },
    {
     "data": {
      "image/png": "[encoded data removed]",
      "text/plain": [
       "<Figure size 432x288 with 1 Axes>"
      ]
     },
     "metadata": {},
     "output_type": "display_data"
    }
   ],
   "source": [
    "show_test_pic(800)"
   ]
  },
  {
   "cell_type": "code",
   "execution_count": 22,
   "metadata": {},
   "outputs": [
    {
     "data": {
      "text/plain": [
       "(0, <matplotlib.image.AxesImage at 0x118068590>)"
      ]
     },
     "execution_count": 22,
     "metadata": {},
     "output_type": "execute_result"
    },
    {
     "data": {
      "image/png": "[encoded data removed]",
      "text/plain": [
       "<Figure size 432x288 with 1 Axes>"
      ]
     },
     "metadata": {},
     "output_type": "display_data"
    }
   ],
   "source": [
    "show_test_pic(1)"
   ]
  },
  {
   "cell_type": "code",
   "execution_count": 23,
   "metadata": {},
   "outputs": [],
   "source": [
    "#Try some drawing pictures to test prediction\n",
    "from PIL import Image\n",
    "import numpy as np, pandas as pd\n",
    "import matplotlib.pyplot as plt\n",
    "\n",
    "\n",
    "#Change picture to pixel array\n",
    "def image2pixelarray(filepath):\n",
    "    img = Image.open(filepath).convert('L')\n",
    "    img = img.resize((28, 28), Image.LANCZOS)\n",
    "    greyscale_map = list(img.getdata())\n",
    "    greyscale_map = np.array(greyscale_map)\n",
    "    return greyscale_map\n",
    "\n",
    "\n",
    "def array2image(filename):\n",
    "    file = open(filename)\n",
    "    array = pd.read_csv(file)\n",
    "    array = array.as_matrix()\n",
    "    for row in array:\n",
    "        data = row[1:].reshape(28, 28)\n",
    "        plt.gray()\n",
    "        plt.imshow(data)\n",
    "        plt.show()\n",
    "        plt.savefig(row+'.png')"
   ]
  },
  {
   "cell_type": "code",
   "execution_count": 24,
   "metadata": {},
   "outputs": [],
   "source": [
    "#Normalize the pixel array\n",
    "def normalize_pixelarray(greyscale_map):\n",
    "    nor_pixelarray = (255.0 - greyscale_map)/255.0\n",
    "    return nor_pixelarray"
   ]
  },
  {
   "cell_type": "code",
   "execution_count": 25,
   "metadata": {},
   "outputs": [
    {
     "data": {
      "image/png": "[encoded data removed]",
      "text/plain": [
       "<Figure size 432x288 with 1 Axes>"
      ]
     },
     "metadata": {},
     "output_type": "display_data"
    }
   ],
   "source": [
    "a = image2pixelarray('6.png')\n",
    "a = normalize_pixelarray(a)\n",
    "\n",
    "#Change the array to 28*28 because the input of drawing picture on notebook should be an array of 28*28\n",
    "b = a.reshape(28, 28)\n",
    "#Show the picture on note\n",
    "pic = show_pic(b)"
   ]
  },
  {
   "cell_type": "code",
   "execution_count": 26,
   "metadata": {},
   "outputs": [
    {
     "name": "stdout",
     "output_type": "stream",
     "text": [
      "[[0.03012515 0.03206087 0.11619353 0.05967776 0.05587334 0.37642366\n",
      "  0.01820118 0.05645943 0.06504354 0.18994159]]\n"
     ]
    }
   ],
   "source": [
    "#Predict\n",
    "pre_result = model.predict(a.reshape(-1,28,28,1))\n",
    "print pre_result"
   ]
  },
  {
   "cell_type": "code",
   "execution_count": 27,
   "metadata": {},
   "outputs": [
    {
     "name": "stdout",
     "output_type": "stream",
     "text": [
      "5\n"
     ]
    }
   ],
   "source": [
    "#Show the prediction result with max probability\n",
    "print np.argmax(pre_result)"
   ]
  },
  {
   "cell_type": "code",
   "execution_count": 28,
   "metadata": {},
   "outputs": [
    {
     "name": "stdout",
     "output_type": "stream",
     "text": [
      "[[0.00184568 0.05493039 0.02448544 0.04132996 0.34819216 0.03963431\n",
      "  0.00431698 0.16512762 0.1046107  0.21552674]]\n"
     ]
    },
    {
     "data": {
      "image/png": "[encoded data removed]",
      "text/plain": [
       "<Figure size 432x288 with 1 Axes>"
      ]
     },
     "metadata": {},
     "output_type": "display_data"
    }
   ],
   "source": [
    "a1 = image2pixelarray('9.png')\n",
    "a1 = normalize_pixelarray(a1)\n",
    "b1 = a1.reshape(28, 28)\n",
    "pic1 = show_pic(b1)\n",
    "\n",
    "\n",
    "pre_result1 = model.predict(a1.reshape(-1,28,28,1))\n",
    "print pre_result1"
   ]
  },
  {
   "cell_type": "code",
   "execution_count": 29,
   "metadata": {},
   "outputs": [
    {
     "name": "stdout",
     "output_type": "stream",
     "text": [
      "4\n"
     ]
    }
   ],
   "source": [
    "print np.argmax(pre_result1)"
   ]
  },
  {
   "cell_type": "code",
   "execution_count": 37,
   "metadata": {},
   "outputs": [
    {
     "name": "stdout",
     "output_type": "stream",
     "text": [
      "[[0.03012515 0.03206087 0.11619353 0.05967776 0.05587334 0.37642366\n",
      "  0.01820118 0.05645943 0.06504354 0.18994159]]\n",
      "5\n"
     ]
    },
    {
     "data": {
      "image/png": "[encoded data removed]",
      "text/plain": [
       "<Figure size 432x288 with 1 Axes>"
      ]
     },
     "metadata": {},
     "output_type": "display_data"
    }
   ],
   "source": [
    "a2 = image2pixelarray('6.png')\n",
    "a2 = normalize_pixelarray(a2)\n",
    "b2 = a2.reshape(28, 28)\n",
    "pic2 = show_pic(b2)\n",
    "\n",
    "\n",
    "pre_result2 = model.predict(a2.reshape(-1,28,28,1))\n",
    "print pre_result2\n",
    "print np.argmax(pre_result2)"
   ]
  },
  {
   "cell_type": "code",
   "execution_count": 39,
   "metadata": {},
   "outputs": [
    {
     "name": "stdout",
     "output_type": "stream",
     "text": [
      "[[8.9731888e-04 8.1247315e-03 8.3752191e-03 6.2370136e-02 3.2793302e-02\n",
      "  8.7024525e-02 5.2655564e-04 7.6399910e-01 1.4534283e-02 2.1354770e-02]]\n",
      "7\n"
     ]
    },
    {
     "data": {
      "image/png": "[encoded data removed]",
      "text/plain": [
       "<Figure size 432x288 with 1 Axes>"
      ]
     },
     "metadata": {},
     "output_type": "display_data"
    }
   ],
   "source": [
    "a3 = image2pixelarray('1.png')\n",
    "a3 = normalize_pixelarray(a3)\n",
    "b3 = a3.reshape(28, 28)\n",
    "pic3 = show_pic(b3)\n",
    "\n",
    "\n",
    "pre_result3 = model.predict(a3.reshape(-1,28,28,1))\n",
    "print pre_result3\n",
    "print np.argmax(pre_result3)"
   ]
  },
  {
   "cell_type": "code",
   "execution_count": 45,
   "metadata": {},
   "outputs": [
    {
     "name": "stdout",
     "output_type": "stream",
     "text": [
      "[[0.00089106 0.02294108 0.01373167 0.05572838 0.18198328 0.01303824\n",
      "  0.0008202  0.12269532 0.06076566 0.52740514]]\n",
      "9\n"
     ]
    },
    {
     "data": {
      "image/png": "[encoded data removed]",
      "text/plain": [
       "<Figure size 432x288 with 1 Axes>"
      ]
     },
     "metadata": {},
     "output_type": "display_data"
    }
   ],
   "source": [
    "#For presentation\n",
    "a4 = image2pixelarray('9.png')\n",
    "a4 = normalize_pixelarray(a4)\n",
    "b4 = a4.reshape(28, 28)\n",
    "pic4 = show_pic(b4)\n",
    "\n",
    "\n",
    "pre_result4 = model.predict(a4.reshape(-1,28,28,1))\n",
    "print pre_result4\n",
    "print np.argmax(pre_result4)"
   ]
  },
  {
   "cell_type": "markdown",
   "metadata": {},
   "source": [
    "*-----------------\n",
    "# Done\n",
    "\n",
    "All set! \n",
    "\n",
    "** What do you need to submit?**\n",
    "\n",
    "* **Notebook File**: Save this Jupyter notebook, and find the notebook file in your folder (for example, \"filename.ipynb\"). This is the file you need to submit. Please make sure all the plotted tables and figures are in the notebook. If you used \"jupyter notebook --pylab=inline\" to open the notebook, all the figures and tables should have shown up in the notebook.\n",
    "\n",
    "* **PPT Slides**: please prepare PPT slides (for 10 minutes' talk) to present about the case study . Each team present their case studies in class for 10 minutes.\n",
    "\n",
    "Please compress all the files in a zipped file.\n",
    "\n",
    "\n",
    "** How to submit: **\n",
    "\n",
    "        Please submit through Canvas, in the Assignment \"Case Study 6\".\n",
    "        \n",
    "** Note: Each team only needs to submit one submission in Canvas **"
   ]
  },
  {
   "cell_type": "code",
   "execution_count": null,
   "metadata": {
    "collapsed": true
   },
   "outputs": [],
   "source": []
  }
 ],
 "metadata": {
  "kernelspec": {
   "display_name": "Python 3",
   "language": "python",
   "name": "python3"
  },
  "language_info": {
   "codemirror_mode": {
    "name": "ipython",
    "version": 3
   },
   "file_extension": ".py",
   "mimetype": "text/x-python",
   "name": "python",
   "nbconvert_exporter": "python",
   "pygments_lexer": "ipython3",
   "version": "3.7.1"
  }
 },
 "nbformat": 4,
 "nbformat_minor": 1
}
